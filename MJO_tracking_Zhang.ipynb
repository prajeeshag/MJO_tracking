{
 "cells": [
  {
   "cell_type": "markdown",
   "metadata": {},
   "source": [
    "## Tracking the eastward positive precipitation anomaly\n",
    "\n",
    "The present method follows the technique of zhang and ling(2017) to identify the MJO events tracking the precipitation anomaly using TRMM datasets.\n",
    "The method follows three basics steps"
   ]
  },
  {
   "cell_type": "markdown",
   "metadata": {},
   "source": [
    "## Functions :"
   ]
  },
  {
   "cell_type": "code",
   "execution_count": 1,
   "metadata": {},
   "outputs": [],
   "source": [
    "import pandas as pd\n",
    "import numpy as np\n",
    "import matplotlib.pyplot as plt\n",
    "from netCDF4 import Dataset,num2date\n",
    "from scipy.interpolate import RectBivariateSpline\n",
    "\n",
    "####################### Function to convert meter/second to day/degree longitude or slope range##########\n",
    "\n",
    "def convert_day_per_lon(v):  ## meter/second\n",
    "    \n",
    "    v_day      = v*3600*24/(100*1000)  # degree/day\n",
    "    #  m (slope) = 1/velocity   #celocity=(slope in t-x plane)#\n",
    "    m_day_deg  =  round(1./v_day,2)   # rounding upto second decimal\n",
    "    \n",
    "    return m_day_deg\n",
    "\n",
    "\n",
    "\n",
    "################################# Function to generate trial lines:#################################\n",
    "\n",
    "def trial_lines(x_range,m_range,x_org,time):\n",
    "    \n",
    "### x_range : Longitude range\n",
    "### m_range : slope of the trial lines , note here slope is 1/m as timw y axis\n",
    "### x_org   : 89.875 E\n",
    "### y_org   : each time steps\n",
    "### time_steps : Number of time steps\n",
    "\n",
    "### output:\n",
    "### 3D matrix yfit = [slope,predicted_time_ind,time_org/y_org]\n",
    "    \n",
    "    y_org     = time\n",
    "\n",
    "    yfit      = np.zeros((len(x_range),len(m_range),len(y_org)))\n",
    "    xfit      = np.zeros((len(x_range),len(m_range),len(y_org)))\n",
    "    \n",
    "    for t in np.arange(len(y_org)):  \n",
    "        for i in np.arange(len(m_range)):    \n",
    "            ytemp             =  m_range[i]*(x_range-x_org)+y_org[t]\n",
    "            ytemp[ytemp<0.0]  = np.nan\n",
    "            yfit[:,i,t]       = ytemp\n",
    "            xfit[:,i,t]       = x_range\n",
    "    \n",
    "    return xfit, yfit\n",
    "        \n",
    "    \n",
    "    \n",
    "#######################function to retain only longest segment ###############################################\n",
    "\n",
    "def retain_longest_segment(mask,gap):\n",
    "    istrt = 0\n",
    "    iend  = mask.shape[0]-1\n",
    "    imask = mask.astype(int)\n",
    "    \n",
    "    for t in np.arange(mask.shape[2]):\n",
    "        print(t)\n",
    "        for m in np.arange(mask.shape[1]):\n",
    "            #do nothing if all values are 1\n",
    "            if all(mask[:,m,t]):\n",
    "                continue\n",
    "                \n",
    "            #do nothing if all values are 0    \n",
    "            if not any(mask[:,m,t]):\n",
    "                continue\n",
    "                \n",
    "            temp = imask[:,m,t]\n",
    "            df   = pd.DataFrame(list(temp),columns=['A'])\n",
    "            df['block'] = (df.A.shift(1) != df.A).astype(int).cumsum()\n",
    "            B = df.reset_index().groupby(['A','block'])['index'].apply(np.array)\n",
    "            \n",
    "            for k in np.arange(B[0].shape[0]):\n",
    "                zlocs=B[0].iloc[k]\n",
    "                #do nothing if zero segment occurs at the start or at the end\n",
    "                if any(zlocs==istrt) or any(zlocs==iend):\n",
    "                    continue\n",
    "                    \n",
    "                #replace with 1 if length zero segment is less than gap\n",
    "                if len(zlocs)<gap:\n",
    "                    temp[zlocs] = 1\n",
    "            \n",
    "            df   = pd.DataFrame(list(temp),columns=['A'])\n",
    "            df['block'] = (df.A.shift(1) != df.A).astype(int).cumsum()\n",
    "            B=df.reset_index().groupby(['A','block'])['index'].apply(np.array)\n",
    "            \n",
    "            #if only one segment is there, save it back to imask and go to next iteration\n",
    "            if B[1].shape[0]==1:\n",
    "                imask[:,m,t]=temp\n",
    "                continue\n",
    "            \n",
    "            #if more than one segment is there, then retain only the longest segment\n",
    "            zlen = len(B[1].iloc[0])\n",
    "            kmax = 0\n",
    "            for k in np.arange(1,B[1].shape[0]):\n",
    "                if zlen>len(B[1].iloc[k]):\n",
    "                    zlen = len(B[1].iloc[k])\n",
    "                    kmax = k\n",
    "                    \n",
    "            zlocs = B[1].iloc[kmax]\n",
    "            temp[:] = 0\n",
    "            temp[zlocs] = 1\n",
    "            imask[:,m,t] = temp\n",
    "    return imask\n"
   ]
  },
  {
   "cell_type": "markdown",
   "metadata": {},
   "source": [
    "\n",
    "\n",
    "## Processing"
   ]
  },
  {
   "cell_type": "code",
   "execution_count": null,
   "metadata": {},
   "outputs": [],
   "source": [
    "dx            = 0.25 #(in degrees)\n",
    "dt            = 1. #(in days)\n",
    "vmin          = 2. # (in m/sec)\n",
    "vmax          = 10. # (in m/sec)\n",
    "nlines        = 20\n",
    "x_org         = 89.875\n",
    "gap_threshold = 10. #(in degrees)\n",
    "\n",
    "m2            = convert_day_per_lon(vmin)\n",
    "m1            = convert_day_per_lon(vmax)\n",
    "m_range       = np.linspace(m1,m2,nlines)\n",
    "\n",
    "gap           = int(gap_threshold/dx)\n",
    "\n",
    "dataset       = Dataset('MJO_filtered_full.nc')\n",
    "#dataset.variables.keys()\n",
    "\n",
    "var           = dataset.variables['mjo_time_lon'][:]\n",
    "lon           = dataset.variables['lon'][:]\n",
    "time          = dataset.variables['time'][:]\n",
    "\n",
    "#Initialize interpolation\n",
    "interp_spline = RectBivariateSpline(time, lon, var)\n",
    "\n",
    "#Initialize trial lines\n",
    "tlx, tly      = trial_lines(lon,m_range,x_org,time)\n",
    "\n",
    "#Do interpolation onto trial lines\n",
    "\n",
    "P           = interp_spline(tly,tlx,grid=False)\n",
    "\n",
    "print(P.shape)"
   ]
  },
  {
   "cell_type": "code",
   "execution_count": null,
   "metadata": {},
   "outputs": [],
   "source": [
    "sigma = np.std(var,0)\n",
    "plt.plot(sigma)\n",
    "mask  = numpy.full(P.shape, False)\n",
    "\n",
    "for i in np.arange(sigma.size):\n",
    "    mask[i,:,:] = P[i,:,:]>=sigma[i]\n",
    "\n",
    "imask = retain_longest_segment(mask,gap)"
   ]
  },
  {
   "cell_type": "code",
   "execution_count": null,
   "metadata": {
    "scrolled": true
   },
   "outputs": [],
   "source": [
    "A = np.nansum(P*imask,0)\n",
    "plt.contourf((1./m_range),time[0:120],A[:,0:120].T)\n",
    "plt.colorbar();\n",
    "\n",
    "np.count_nonzero(imask[:,0,85])"
   ]
  },
  {
   "cell_type": "code",
   "execution_count": null,
   "metadata": {},
   "outputs": [],
   "source": [
    "y1=tly[:,0,0]\n",
    "x1=tlx[:,0,0]\n",
    "plt.plot(x1,y1)\n",
    "ym=y1*imask[:,0,0]\n",
    "plt.plot(x1,ym,'r')\n"
   ]
  },
  {
   "cell_type": "code",
   "execution_count": null,
   "metadata": {},
   "outputs": [],
   "source": [
    "#plt.plot(lon,(P[:,0,0]>=sigma).astype(int))\n",
    "np.count_nonzero( (P[:,0,0]>=sigma).astype(int))\n",
    "# plt.plot(lon,P[:,0,20],'r')\n",
    "plt.plot(P[:,0,0:500])\n",
    "plt.plot(sigma)\n",
    "\n"
   ]
  }
 ],
 "metadata": {
  "kernelspec": {
   "display_name": "Python 3",
   "language": "python",
   "name": "python3"
  },
  "language_info": {
   "codemirror_mode": {
    "name": "ipython",
    "version": 3
   },
   "file_extension": ".py",
   "mimetype": "text/x-python",
   "name": "python",
   "nbconvert_exporter": "python",
   "pygments_lexer": "ipython3",
   "version": "3.5.5"
  }
 },
 "nbformat": 4,
 "nbformat_minor": 2
}
